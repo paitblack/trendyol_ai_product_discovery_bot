{
 "cells": [
  {
   "cell_type": "code",
   "execution_count": 2,
   "id": "0c472a50",
   "metadata": {},
   "outputs": [
    {
     "name": "stdout",
     "output_type": "stream",
     "text": [
      "Toplam 714309 ürün yeni JSON dosyasına yazıldı.\n"
     ]
    }
   ],
   "source": [
    "import json\n",
    "from collections import defaultdict\n",
    "\n",
    "with open(\"C:/Users/emre-/Desktop/mava/trendyol_unique.json\", \"r\", encoding=\"utf-8\") as f:\n",
    "    data = json.load(f)\n",
    "\n",
    "kategori_dict = defaultdict(list)\n",
    "for item in data:\n",
    "    kategori = item.get(\"alt_kategori_2\", \"\")\n",
    "    kategori_dict[kategori].append(item)\n",
    "\n",
    "reduced_data = []\n",
    "for kategori, items in kategori_dict.items():\n",
    "    reduced_data.extend(items[:3000])\n",
    "\n",
    "with open(\"trendyo_limited2.json\", \"w\", encoding=\"utf-8\") as f:\n",
    "    json.dump(reduced_data, f, ensure_ascii=False, indent=4)\n",
    "\n",
    "print(f\"Toplam {len(reduced_data)} ürün yeni JSON dosyasına yazıldı.\")\n"
   ]
  },
  {
   "cell_type": "code",
   "execution_count": 1,
   "id": "3cb0a4b5",
   "metadata": {},
   "outputs": [
    {
     "name": "stdout",
     "output_type": "stream",
     "text": [
      "Weighted rating hesaplandı ve 'trendyol_with_weighted_rating.json' dosyasına kaydedildi.\n"
     ]
    }
   ],
   "source": [
    "import json\n",
    "\n",
    "INPUT_FILE = \"trendyol.json\"        \n",
    "OUTPUT_FILE = \"trendyol_with_weighted_rating.json\"     \n",
    "\n",
    "MIN_COMMENT_COUNT = 10  \n",
    "DEFAULT_RATING = 0.0\n",
    "DEFAULT_COMMENT_COUNT = 0\n",
    "\n",
    "with open(INPUT_FILE, \"r\", encoding=\"utf-8\") as f:\n",
    "    data = json.load(f)\n",
    "\n",
    "ratings = []\n",
    "for item in data:\n",
    "    try:\n",
    "        rating = float(item[\"rating\"]) if item[\"rating\"].strip() else None\n",
    "        comment_count = int(item[\"comment_count\"]) if item[\"comment_count\"].strip() else 0\n",
    "        if rating is not None and comment_count > 0:\n",
    "            ratings.append(rating)\n",
    "    except:\n",
    "        continue\n",
    "\n",
    "C = sum(ratings) / len(ratings) if ratings else 0.0\n",
    "\n",
    "for item in data:\n",
    "    try:\n",
    "        rating_str = item.get(\"rating\", \"\").strip()\n",
    "        comment_str = item.get(\"comment_count\", \"\").strip()\n",
    "\n",
    "        if not rating_str or not comment_str:\n",
    "            item[\"weighted_rating\"] = 0.0\n",
    "            continue\n",
    "\n",
    "        R = float(rating_str)\n",
    "        v = int(comment_str)\n",
    "        m = MIN_COMMENT_COUNT\n",
    "\n",
    "        weighted_rating = ((v / (v + m)) * R) + ((m / (v + m)) * C)\n",
    "        item[\"weighted_rating\"] = round(weighted_rating, 4)\n",
    "\n",
    "    except:\n",
    "        item[\"weighted_rating\"] = 0.0  \n",
    "\n",
    "with open(OUTPUT_FILE, \"w\", encoding=\"utf-8\") as f:\n",
    "    json.dump(data, f, ensure_ascii=False, indent=2)\n",
    "\n",
    "print(f\"Weighted rating hesaplandı ve '{OUTPUT_FILE}' dosyasına kaydedildi.\")\n"
   ]
  }
 ],
 "metadata": {
  "kernelspec": {
   "display_name": "Python 3",
   "language": "python",
   "name": "python3"
  },
  "language_info": {
   "codemirror_mode": {
    "name": "ipython",
    "version": 3
   },
   "file_extension": ".py",
   "mimetype": "text/x-python",
   "name": "python",
   "nbconvert_exporter": "python",
   "pygments_lexer": "ipython3",
   "version": "3.11.0"
  }
 },
 "nbformat": 4,
 "nbformat_minor": 5
}
